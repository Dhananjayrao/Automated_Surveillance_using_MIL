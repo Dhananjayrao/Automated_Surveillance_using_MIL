{
  "nbformat": 4,
  "nbformat_minor": 0,
  "metadata": {
    "colab": {
      "name": "C3D_feature_extraction_Colab.ipynb",
      "provenance": [],
      "collapsed_sections": []
    },
    "kernelspec": {
      "name": "python3",
      "display_name": "Python 3"
    },
    "accelerator": "GPU"
  },
  "cells": [
    {
      "cell_type": "markdown",
      "metadata": {
        "id": "6X0iEE1s776V"
      },
      "source": [
        "**Connect Google Drive**"
      ]
    },
    {
      "cell_type": "code",
      "metadata": {
        "id": "yiyseveba-Wj"
      },
      "source": [
        "##### required\n",
        "from google.colab import drive\n",
        "drive.mount('/content/drive/')"
      ],
      "execution_count": null,
      "outputs": []
    },
    {
      "cell_type": "markdown",
      "metadata": {
        "id": "Pxr-KDakq98p"
      },
      "source": [
        "**Setup C3D Model**"
      ]
    },
    {
      "cell_type": "code",
      "metadata": {
        "id": "IyIJMikImm7f"
      },
      "source": [
        "cd /content/drive/My\\ Drive"
      ],
      "execution_count": null,
      "outputs": []
    },
    {
      "cell_type": "code",
      "metadata": {
        "id": "mtPHsiaWmnlX"
      },
      "source": [
        "!git clone https://github.com/facebook/C3D.git"
      ],
      "execution_count": null,
      "outputs": []
    },
    {
      "cell_type": "code",
      "metadata": {
        "id": "FaxQKGiGmt60"
      },
      "source": [
        "cd C3D/C3D-v1.0/"
      ],
      "execution_count": null,
      "outputs": []
    },
    {
      "cell_type": "code",
      "metadata": {
        "id": "rmHJ2XiRmz6I"
      },
      "source": [
        "#upload \"Makefile.config\" at \"/content/drive/My\\ Drive/C3D/C3D-v1.0/\""
      ],
      "execution_count": null,
      "outputs": []
    },
    {
      "cell_type": "code",
      "metadata": {
        "id": "I9Wm_jwTCcrD"
      },
      "source": [
        "cd /content/drive/My\\ Drive/C3D/C3D-v1.0/python/"
      ],
      "execution_count": null,
      "outputs": []
    },
    {
      "cell_type": "code",
      "metadata": {
        "id": "IkfyhAcZgHXa"
      },
      "source": [
        "##### required\n",
        "!pip install -r requirements.txt"
      ],
      "execution_count": null,
      "outputs": []
    },
    {
      "cell_type": "code",
      "metadata": {
        "id": "-pzl5mVzgR5K"
      },
      "source": [
        "##### required\n",
        "!sudo apt-get install libprotobuf-dev libleveldb-dev libsnappy-dev libopencv-dev libboost-all-dev libhdf5-serial-dev"
      ],
      "execution_count": null,
      "outputs": []
    },
    {
      "cell_type": "code",
      "metadata": {
        "id": "dA5unLorgXQ5"
      },
      "source": [
        "##### required\n",
        "!sudo apt install libgoogle-glog-dev"
      ],
      "execution_count": null,
      "outputs": []
    },
    {
      "cell_type": "code",
      "metadata": {
        "id": "ZWJRJQfTz5Uf"
      },
      "source": [
        "cd /content/drive/My\\ Drive/C3D/C3D-v1.0"
      ],
      "execution_count": null,
      "outputs": []
    },
    {
      "cell_type": "code",
      "metadata": {
        "id": "u1vllw1knfdc"
      },
      "source": [
        "#this will build caffe file.\n",
        "!sudo make all -j 32"
      ],
      "execution_count": null,
      "outputs": []
    },
    {
      "cell_type": "markdown",
      "metadata": {
        "id": "2KukmtbmrUOI"
      },
      "source": [
        "**Setup Input Video File**"
      ]
    },
    {
      "cell_type": "code",
      "metadata": {
        "id": "Z3voxrmTmyUN"
      },
      "source": [
        "cd /content"
      ],
      "execution_count": null,
      "outputs": []
    },
    {
      "cell_type": "code",
      "metadata": {
        "id": "nWPgQSN6qH8A"
      },
      "source": [
        "#Add video file at \"/content\"\n",
        "#or wget to download file from URL."
      ],
      "execution_count": null,
      "outputs": []
    },
    {
      "cell_type": "code",
      "metadata": {
        "id": "7LemXPIum2Rq"
      },
      "source": [
        "#optional\n",
        "!wget -c #url path"
      ],
      "execution_count": null,
      "outputs": []
    },
    {
      "cell_type": "code",
      "metadata": {
        "id": "nFdE6dSdoXVS"
      },
      "source": [
        "ls"
      ],
      "execution_count": null,
      "outputs": []
    },
    {
      "cell_type": "markdown",
      "metadata": {
        "id": "0wmoy08fr7t1"
      },
      "source": [
        "**Start Feature Extraction**"
      ]
    },
    {
      "cell_type": "code",
      "metadata": {
        "id": "NSv7Pi9kXQRS"
      },
      "source": [
        "cd /content/drive/My\\ Drive/C3D/C3D-v1.0/examples/c3d_feature_extraction/"
      ],
      "execution_count": null,
      "outputs": []
    },
    {
      "cell_type": "code",
      "metadata": {
        "id": "AthzjyOQstWv"
      },
      "source": [
        "!sudo chmod 777 /content/drive/My\\ Drive/C3D/C3D-v1.0/build/tools/extract_image_features.bin"
      ],
      "execution_count": null,
      "outputs": []
    },
    {
      "cell_type": "code",
      "metadata": {
        "id": "toIj6Ontssm4"
      },
      "source": [
        "!wget conv3d_deepnetA_sport1m_iter_1900000 https://www.dropbox.com/s/vr8ckp0pxgbldhs/conv3d_deepnetA_sport1m_iter_1900000?dl=0"
      ],
      "execution_count": null,
      "outputs": []
    },
    {
      "cell_type": "code",
      "metadata": {
        "id": "62rcW4lcsZRv"
      },
      "source": [
        "#Test everything works properly.\n",
        "!sh c3d_sport1m_feature_extraction_frm.sh"
      ],
      "execution_count": null,
      "outputs": []
    },
    {
      "cell_type": "code",
      "metadata": {
        "id": "4iyshBXULFFH"
      },
      "source": [
        "# extract_C3D_feature.py is script to extract video features.\n",
        "# Modify the script for our purpose."
      ],
      "execution_count": null,
      "outputs": []
    },
    {
      "cell_type": "code",
      "metadata": {
        "id": "BdXeorUz7w6H"
      },
      "source": [
        "!sudo python extract_C3D_feature.py"
      ],
      "execution_count": null,
      "outputs": []
    },
    {
      "cell_type": "code",
      "metadata": {
        "id": "GvjWFoZnoBeW"
      },
      "source": [
        "#output .txt feature file is saved at \"/content/drive/My\\ Drive/C3D/C3D-v1.0/examples/c3d_feature_extraction/out/\""
      ],
      "execution_count": null,
      "outputs": []
    }
  ]
}